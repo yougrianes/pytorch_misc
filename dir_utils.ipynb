{
 "cells": [
  {
   "attachments": {},
   "cell_type": "markdown",
   "metadata": {},
   "source": [
    "# Howtos: 一些对文件和目录的常见操作\n",
    "\n",
    "整理一些常用的文件和目录的操作，防止每次都要从头开始造轮子。真的好无聊啊wwww... = ="
   ]
  },
  {
   "attachments": {},
   "cell_type": "markdown",
   "metadata": {},
   "source": [
    "## 常见的文件夹目录操作"
   ]
  },
  {
   "cell_type": "code",
   "execution_count": 26,
   "metadata": {},
   "outputs": [
    {
     "name": "stdout",
     "output_type": "stream",
     "text": [
      "['b', 'a']\n"
     ]
    }
   ],
   "source": [
    "import distutils.dir_util as dir_util\n",
    "import os\n",
    "\n",
    "# 创建一个文件夹（可以创建多级的目录，把中间空缺的路径补齐）\n",
    "dir_util.mkpath(\"./dir_util_test\")\n",
    "\n",
    "# 多级文件路径和base_dir的组合：生成文件目录树\n",
    "dir_util.create_tree(\"./dir_util_test\",[\"a/a.txt\", \"b/b/b.txt\"])\n",
    "\n",
    "# 显示文件夹里的一级目录内容\n",
    "print(os.listdir(\"./dir_util_test\"))\n",
    "\n",
    "# 复制一个文件夹到另一个位置\n",
    "dir_util.copy_tree(\"./dir_util_test\", \"./dir_util_test_2\")\n",
    "\n",
    "# 删除一个文件夹\n",
    "dir_util.remove_tree(\"./dir_util_test\")\n",
    "dir_util.remove_tree(\"./dir_util_test_2\")"
   ]
  },
  {
   "attachments": {},
   "cell_type": "markdown",
   "metadata": {},
   "source": [
    "##  distutils.file_util：文件的常见操作"
   ]
  },
  {
   "cell_type": "code",
   "execution_count": 24,
   "metadata": {},
   "outputs": [],
   "source": [
    "import distutils.file_util as file_util\n",
    "import os\n",
    "\n",
    "# 写一个文件\n",
    "file_util.write_file(\"a.txt\", \"test a.txt\")\n",
    "\n",
    "# 复制文件并且更改名字\n",
    "file_util.copy_file(\"a.txt\", \"b.txt\")\n",
    "\n",
    "# 移动文件(不能覆盖rst文件！不然会报错的！)\n",
    "file_util.move_file(\"a.txt\", \"./\")\n",
    "file_util.move_file(\"a.txt\", \"./c.txt\")\n",
    "file_util.move_file(\"c.txt\", \"./a.txt\")\n",
    "\n",
    "# 删除一个文件\n",
    "os.remove(\"a.txt\")\n",
    "os.remove(\"b.txt\")"
   ]
  },
  {
   "cell_type": "markdown",
   "metadata": {},
   "source": []
  }
 ],
 "metadata": {
  "kernelspec": {
   "display_name": "Python 3.10.6 64-bit",
   "language": "python",
   "name": "python3"
  },
  "language_info": {
   "codemirror_mode": {
    "name": "ipython",
    "version": 3
   },
   "file_extension": ".py",
   "mimetype": "text/x-python",
   "name": "python",
   "nbconvert_exporter": "python",
   "pygments_lexer": "ipython3",
   "version": "3.10.6"
  },
  "orig_nbformat": 4,
  "vscode": {
   "interpreter": {
    "hash": "916dbcbb3f70747c44a77c7bcd40155683ae19c65e1c03b4aa3499c5328201f1"
   }
  }
 },
 "nbformat": 4,
 "nbformat_minor": 2
}
